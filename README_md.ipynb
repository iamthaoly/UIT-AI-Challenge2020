{
  "nbformat": 4,
  "nbformat_minor": 0,
  "metadata": {
    "colab": {
      "name": "README.md",
      "provenance": [],
      "collapsed_sections": [],
      "authorship_tag": "ABX9TyMkWxaKVyGhwsdbTTPQaHd3",
      "include_colab_link": true
    },
    "kernelspec": {
      "name": "python3",
      "display_name": "Python 3"
    }
  },
  "cells": [
    {
      "cell_type": "markdown",
      "metadata": {
        "id": "view-in-github",
        "colab_type": "text"
      },
      "source": [
        "<a href=\"https://colab.research.google.com/github/iamthaoly/UIT-AI-Challenge2020/blob/master/README_md.ipynb\" target=\"_parent\"><img src=\"https://colab.research.google.com/assets/colab-badge.svg\" alt=\"Open In Colab\"/></a>"
      ]
    },
    {
      "cell_type": "markdown",
      "metadata": {
        "id": "pp2G_8J7nw3A",
        "colab_type": "text"
      },
      "source": [
        "```\n",
        "UIT-AI-CHALLENGE2020\n",
        "\n",
        "Trần Thị Thảo Ly \n",
        "Faculty of Informatics System - University of Economics and Law - VNU\n",
        "Programming languages: Java, C#, C++\n",
        "Skill sets: OOP, Android development (Java)\n",
        "```\n",
        "\n",
        "\n",
        "\n"
      ]
    }
  ]
}